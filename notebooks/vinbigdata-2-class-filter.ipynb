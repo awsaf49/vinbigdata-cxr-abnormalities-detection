{
 "cells": [
  {
   "cell_type": "markdown",
   "metadata": {
    "papermill": {
     "duration": 0.015503,
     "end_time": "2021-01-23T09:05:32.937525",
     "exception": false,
     "start_time": "2021-01-23T09:05:32.922022",
     "status": "completed"
    },
    "tags": []
   },
   "source": [
    "# Version\n",
    "* `v4`: **2-cls filter**\n",
    "* `v5`: **2-cls filter** + [**1x1 bbox trick** 🔥](https://www.kaggle.com/c/vinbigdata-chest-xray-abnormalities-detection/discussion/211971)"
   ]
  },
  {
   "cell_type": "markdown",
   "metadata": {
    "papermill": {
     "duration": 0.012489,
     "end_time": "2021-01-23T09:05:32.963431",
     "exception": false,
     "start_time": "2021-01-23T09:05:32.950942",
     "status": "completed"
    },
    "tags": []
   },
   "source": [
    "# 🌟2 Class Filter🌟\n",
    "Previously I have trained `YOLOv5` using `14` class data. As it creates `FP` we can tackle that just simply using a `2 class filter`. Here I'll be using 2 class model (`AUC`:`0.98`) prediction to filter out the `FP` predictions. I used `EfficientNetB6` to generate these predictions.\n",
    "It should increase the score as `FP` would be reduced significantly\n",
    "\n",
    "**Notebooks**\n",
    "* [14 class train](https://www.kaggle.com/awsaf49/vinbigdata-cxr-ad-yolov5-14-class-train)\n",
    "* [14 class infer](https://www.kaggle.com/awsaf49/vinbigdata-cxr-ad-yolov5-14-class-infer)\n",
    "\n",
    "**Dataset:**\n",
    "* [YOLOv5 Labels](https://www.kaggle.com/awsaf49/vinbigdata-yolo-labels-dataset)\n",
    "* [1024x1024 Dataset](https://www.kaggle.com/awsaf49/vinbigdata-1024-image-dataset)\n",
    "* [512x512 Dataset](https://www.kaggle.com/awsaf49/vinbigdata-512-image-dataset)\n",
    "* [256x256 Dataset](https://www.kaggle.com/awsaf49/vinbigdata-512-image-dataset)\n",
    "* [Original Size '.jpg'](https://www.kaggle.com/awsaf49/vinbigdata-original-image-dataset)"
   ]
  },
  {
   "cell_type": "markdown",
   "metadata": {
    "papermill": {
     "duration": 0.012393,
     "end_time": "2021-01-23T09:05:32.988585",
     "exception": false,
     "start_time": "2021-01-23T09:05:32.976192",
     "status": "completed"
    },
    "tags": []
   },
   "source": [
    "# Loading Package"
   ]
  },
  {
   "cell_type": "code",
   "execution_count": 1,
   "metadata": {
    "_cell_guid": "b1076dfc-b9ad-4769-8c92-a6c4dae69d19",
    "_uuid": "8f2839f25d086af736a60e9eeb907d3b93b6e0e5",
    "execution": {
     "iopub.execute_input": "2021-01-23T09:05:33.017940Z",
     "iopub.status.busy": "2021-01-23T09:05:33.017215Z",
     "iopub.status.idle": "2021-01-23T09:05:33.021432Z",
     "shell.execute_reply": "2021-01-23T09:05:33.021950Z"
    },
    "papermill": {
     "duration": 0.02059,
     "end_time": "2021-01-23T09:05:33.022122",
     "exception": false,
     "start_time": "2021-01-23T09:05:33.001532",
     "status": "completed"
    },
    "tags": []
   },
   "outputs": [],
   "source": [
    "import pandas as pd\n",
    "import numpy as np\n",
    "from glob import glob\n",
    "import shutil"
   ]
  },
  {
   "cell_type": "markdown",
   "metadata": {
    "papermill": {
     "duration": 0.012573,
     "end_time": "2021-01-23T09:05:33.048180",
     "exception": false,
     "start_time": "2021-01-23T09:05:33.035607",
     "status": "completed"
    },
    "tags": []
   },
   "source": [
    "# Threshold For `2 Class Filter`\n",
    "**NB**: The threshold was chosen arbitarily"
   ]
  },
  {
   "cell_type": "code",
   "execution_count": 2,
   "metadata": {
    "execution": {
     "iopub.execute_input": "2021-01-23T09:05:33.077765Z",
     "iopub.status.busy": "2021-01-23T09:05:33.077085Z",
     "iopub.status.idle": "2021-01-23T09:05:33.081773Z",
     "shell.execute_reply": "2021-01-23T09:05:33.081221Z"
    },
    "papermill": {
     "duration": 0.020791,
     "end_time": "2021-01-23T09:05:33.081882",
     "exception": false,
     "start_time": "2021-01-23T09:05:33.061091",
     "status": "completed"
    },
    "tags": []
   },
   "outputs": [],
   "source": [
    "low_thr  = 0.08\n",
    "high_thr = 0.95"
   ]
  },
  {
   "cell_type": "markdown",
   "metadata": {
    "papermill": {
     "duration": 0.014756,
     "end_time": "2021-01-23T09:05:33.109933",
     "exception": false,
     "start_time": "2021-01-23T09:05:33.095177",
     "status": "completed"
    },
    "tags": []
   },
   "source": [
    "# Loading csv"
   ]
  },
  {
   "cell_type": "code",
   "execution_count": 3,
   "metadata": {
    "_cell_guid": "79c7e3d0-c299-4dcb-8224-4455121ee9b0",
    "_uuid": "d629ff2d2480ee46fbb7e2d37f6b5fab8052498a",
    "execution": {
     "iopub.execute_input": "2021-01-23T09:05:33.146982Z",
     "iopub.status.busy": "2021-01-23T09:05:33.146197Z",
     "iopub.status.idle": "2021-01-23T09:05:33.187056Z",
     "shell.execute_reply": "2021-01-23T09:05:33.186395Z"
    },
    "papermill": {
     "duration": 0.063648,
     "end_time": "2021-01-23T09:05:33.187254",
     "exception": false,
     "start_time": "2021-01-23T09:05:33.123606",
     "status": "completed"
    },
    "tags": []
   },
   "outputs": [],
   "source": [
    "pred_14cls = pd.read_csv('../input/vinbigdata-14-class-submission-lb0154/submission.csv')\n",
    "pred_2cls = pd.read_csv('../input/vinbigdata-2class-prediction/2-cls test pred.csv')"
   ]
  },
  {
   "cell_type": "code",
   "execution_count": 4,
   "metadata": {
    "execution": {
     "iopub.execute_input": "2021-01-23T09:05:33.219325Z",
     "iopub.status.busy": "2021-01-23T09:05:33.218648Z",
     "iopub.status.idle": "2021-01-23T09:05:33.241224Z",
     "shell.execute_reply": "2021-01-23T09:05:33.241747Z"
    },
    "papermill": {
     "duration": 0.039354,
     "end_time": "2021-01-23T09:05:33.241894",
     "exception": false,
     "start_time": "2021-01-23T09:05:33.202540",
     "status": "completed"
    },
    "tags": []
   },
   "outputs": [
    {
     "data": {
      "text/html": [
       "<div>\n",
       "<style scoped>\n",
       "    .dataframe tbody tr th:only-of-type {\n",
       "        vertical-align: middle;\n",
       "    }\n",
       "\n",
       "    .dataframe tbody tr th {\n",
       "        vertical-align: top;\n",
       "    }\n",
       "\n",
       "    .dataframe thead th {\n",
       "        text-align: right;\n",
       "    }\n",
       "</style>\n",
       "<table border=\"1\" class=\"dataframe\">\n",
       "  <thead>\n",
       "    <tr style=\"text-align: right;\">\n",
       "      <th></th>\n",
       "      <th>image_id</th>\n",
       "      <th>PredictionString</th>\n",
       "    </tr>\n",
       "  </thead>\n",
       "  <tbody>\n",
       "    <tr>\n",
       "      <th>0</th>\n",
       "      <td>83caa8a85e03606cf57e49147d7ac569</td>\n",
       "      <td>0 0.2 1057 742 1328 990 3 0.8 814 1164 1737 1496</td>\n",
       "    </tr>\n",
       "    <tr>\n",
       "      <th>1</th>\n",
       "      <td>7550347fa2bb96c2354a3716dfa3a69c</td>\n",
       "      <td>0 0.5 1234 731 1527 1028 5 0.5 1755 1288 2201 ...</td>\n",
       "    </tr>\n",
       "    <tr>\n",
       "      <th>2</th>\n",
       "      <td>74b23792db329cff5843e36efb8aa65a</td>\n",
       "      <td>14 1 0 0 1 1</td>\n",
       "    </tr>\n",
       "    <tr>\n",
       "      <th>3</th>\n",
       "      <td>94568a546be103177cb582d3e91cd2d8</td>\n",
       "      <td>0 0.6 974 1025 1211 1343 3 0.8 650 1614 1507 1936</td>\n",
       "    </tr>\n",
       "    <tr>\n",
       "      <th>4</th>\n",
       "      <td>6da36354fc904b63bc03eb3884e0c35c</td>\n",
       "      <td>11 0.3 578 292 859 353 0 0.4 1076 548 1301 747...</td>\n",
       "    </tr>\n",
       "  </tbody>\n",
       "</table>\n",
       "</div>"
      ],
      "text/plain": [
       "                           image_id  \\\n",
       "0  83caa8a85e03606cf57e49147d7ac569   \n",
       "1  7550347fa2bb96c2354a3716dfa3a69c   \n",
       "2  74b23792db329cff5843e36efb8aa65a   \n",
       "3  94568a546be103177cb582d3e91cd2d8   \n",
       "4  6da36354fc904b63bc03eb3884e0c35c   \n",
       "\n",
       "                                    PredictionString  \n",
       "0   0 0.2 1057 742 1328 990 3 0.8 814 1164 1737 1496  \n",
       "1  0 0.5 1234 731 1527 1028 5 0.5 1755 1288 2201 ...  \n",
       "2                                       14 1 0 0 1 1  \n",
       "3  0 0.6 974 1025 1211 1343 3 0.8 650 1614 1507 1936  \n",
       "4  11 0.3 578 292 859 353 0 0.4 1076 548 1301 747...  "
      ]
     },
     "execution_count": 4,
     "metadata": {},
     "output_type": "execute_result"
    }
   ],
   "source": [
    "pred_14cls.head()"
   ]
  },
  {
   "cell_type": "code",
   "execution_count": 5,
   "metadata": {
    "execution": {
     "iopub.execute_input": "2021-01-23T09:05:33.274266Z",
     "iopub.status.busy": "2021-01-23T09:05:33.273571Z",
     "iopub.status.idle": "2021-01-23T09:05:33.283809Z",
     "shell.execute_reply": "2021-01-23T09:05:33.283194Z"
    },
    "papermill": {
     "duration": 0.027189,
     "end_time": "2021-01-23T09:05:33.283924",
     "exception": false,
     "start_time": "2021-01-23T09:05:33.256735",
     "status": "completed"
    },
    "tags": []
   },
   "outputs": [
    {
     "data": {
      "text/html": [
       "<div>\n",
       "<style scoped>\n",
       "    .dataframe tbody tr th:only-of-type {\n",
       "        vertical-align: middle;\n",
       "    }\n",
       "\n",
       "    .dataframe tbody tr th {\n",
       "        vertical-align: top;\n",
       "    }\n",
       "\n",
       "    .dataframe thead th {\n",
       "        text-align: right;\n",
       "    }\n",
       "</style>\n",
       "<table border=\"1\" class=\"dataframe\">\n",
       "  <thead>\n",
       "    <tr style=\"text-align: right;\">\n",
       "      <th></th>\n",
       "      <th>image_id</th>\n",
       "      <th>target</th>\n",
       "    </tr>\n",
       "  </thead>\n",
       "  <tbody>\n",
       "    <tr>\n",
       "      <th>0</th>\n",
       "      <td>002a34c58c5b758217ed1f584ccbcfe9</td>\n",
       "      <td>0.013326</td>\n",
       "    </tr>\n",
       "    <tr>\n",
       "      <th>1</th>\n",
       "      <td>004f33259ee4aef671c2b95d54e4be68</td>\n",
       "      <td>0.037235</td>\n",
       "    </tr>\n",
       "    <tr>\n",
       "      <th>2</th>\n",
       "      <td>008bdde2af2462e86fd373a445d0f4cd</td>\n",
       "      <td>0.939700</td>\n",
       "    </tr>\n",
       "    <tr>\n",
       "      <th>3</th>\n",
       "      <td>009bc039326338823ca3aa84381f17f1</td>\n",
       "      <td>0.123799</td>\n",
       "    </tr>\n",
       "    <tr>\n",
       "      <th>4</th>\n",
       "      <td>00a2145de1886cb9eb88869c85d74080</td>\n",
       "      <td>0.654006</td>\n",
       "    </tr>\n",
       "  </tbody>\n",
       "</table>\n",
       "</div>"
      ],
      "text/plain": [
       "                           image_id    target\n",
       "0  002a34c58c5b758217ed1f584ccbcfe9  0.013326\n",
       "1  004f33259ee4aef671c2b95d54e4be68  0.037235\n",
       "2  008bdde2af2462e86fd373a445d0f4cd  0.939700\n",
       "3  009bc039326338823ca3aa84381f17f1  0.123799\n",
       "4  00a2145de1886cb9eb88869c85d74080  0.654006"
      ]
     },
     "execution_count": 5,
     "metadata": {},
     "output_type": "execute_result"
    }
   ],
   "source": [
    "pred_2cls.head()"
   ]
  },
  {
   "cell_type": "code",
   "execution_count": 6,
   "metadata": {
    "execution": {
     "iopub.execute_input": "2021-01-23T09:05:33.324981Z",
     "iopub.status.busy": "2021-01-23T09:05:33.324296Z",
     "iopub.status.idle": "2021-01-23T09:05:33.343296Z",
     "shell.execute_reply": "2021-01-23T09:05:33.342677Z"
    },
    "papermill": {
     "duration": 0.044744,
     "end_time": "2021-01-23T09:05:33.343417",
     "exception": false,
     "start_time": "2021-01-23T09:05:33.298673",
     "status": "completed"
    },
    "tags": []
   },
   "outputs": [
    {
     "data": {
      "text/html": [
       "<div>\n",
       "<style scoped>\n",
       "    .dataframe tbody tr th:only-of-type {\n",
       "        vertical-align: middle;\n",
       "    }\n",
       "\n",
       "    .dataframe tbody tr th {\n",
       "        vertical-align: top;\n",
       "    }\n",
       "\n",
       "    .dataframe thead th {\n",
       "        text-align: right;\n",
       "    }\n",
       "</style>\n",
       "<table border=\"1\" class=\"dataframe\">\n",
       "  <thead>\n",
       "    <tr style=\"text-align: right;\">\n",
       "      <th></th>\n",
       "      <th>image_id</th>\n",
       "      <th>PredictionString</th>\n",
       "      <th>target</th>\n",
       "    </tr>\n",
       "  </thead>\n",
       "  <tbody>\n",
       "    <tr>\n",
       "      <th>0</th>\n",
       "      <td>83caa8a85e03606cf57e49147d7ac569</td>\n",
       "      <td>0 0.2 1057 742 1328 990 3 0.8 814 1164 1737 1496</td>\n",
       "      <td>0.970583</td>\n",
       "    </tr>\n",
       "    <tr>\n",
       "      <th>1</th>\n",
       "      <td>7550347fa2bb96c2354a3716dfa3a69c</td>\n",
       "      <td>0 0.5 1234 731 1527 1028 5 0.5 1755 1288 2201 ...</td>\n",
       "      <td>0.039873</td>\n",
       "    </tr>\n",
       "    <tr>\n",
       "      <th>2</th>\n",
       "      <td>74b23792db329cff5843e36efb8aa65a</td>\n",
       "      <td>14 1 0 0 1 1</td>\n",
       "      <td>0.010240</td>\n",
       "    </tr>\n",
       "    <tr>\n",
       "      <th>3</th>\n",
       "      <td>94568a546be103177cb582d3e91cd2d8</td>\n",
       "      <td>0 0.6 974 1025 1211 1343 3 0.8 650 1614 1507 1936</td>\n",
       "      <td>0.065679</td>\n",
       "    </tr>\n",
       "    <tr>\n",
       "      <th>4</th>\n",
       "      <td>6da36354fc904b63bc03eb3884e0c35c</td>\n",
       "      <td>11 0.3 578 292 859 353 0 0.4 1076 548 1301 747...</td>\n",
       "      <td>0.838772</td>\n",
       "    </tr>\n",
       "  </tbody>\n",
       "</table>\n",
       "</div>"
      ],
      "text/plain": [
       "                           image_id  \\\n",
       "0  83caa8a85e03606cf57e49147d7ac569   \n",
       "1  7550347fa2bb96c2354a3716dfa3a69c   \n",
       "2  74b23792db329cff5843e36efb8aa65a   \n",
       "3  94568a546be103177cb582d3e91cd2d8   \n",
       "4  6da36354fc904b63bc03eb3884e0c35c   \n",
       "\n",
       "                                    PredictionString    target  \n",
       "0   0 0.2 1057 742 1328 990 3 0.8 814 1164 1737 1496  0.970583  \n",
       "1  0 0.5 1234 731 1527 1028 5 0.5 1755 1288 2201 ...  0.039873  \n",
       "2                                       14 1 0 0 1 1  0.010240  \n",
       "3  0 0.6 974 1025 1211 1343 3 0.8 650 1614 1507 1936  0.065679  \n",
       "4  11 0.3 578 292 859 353 0 0.4 1076 548 1301 747...  0.838772  "
      ]
     },
     "execution_count": 6,
     "metadata": {},
     "output_type": "execute_result"
    }
   ],
   "source": [
    "pred = pd.merge(pred_14cls, pred_2cls, on = 'image_id', how = 'left')\n",
    "pred.head()"
   ]
  },
  {
   "cell_type": "markdown",
   "metadata": {
    "papermill": {
     "duration": 0.015208,
     "end_time": "2021-01-23T09:05:33.374005",
     "exception": false,
     "start_time": "2021-01-23T09:05:33.358797",
     "status": "completed"
    },
    "tags": []
   },
   "source": [
    "# Before 2 Class Filter Number of `No Finding`"
   ]
  },
  {
   "cell_type": "code",
   "execution_count": 7,
   "metadata": {
    "execution": {
     "iopub.execute_input": "2021-01-23T09:05:33.416447Z",
     "iopub.status.busy": "2021-01-23T09:05:33.415689Z",
     "iopub.status.idle": "2021-01-23T09:05:33.420046Z",
     "shell.execute_reply": "2021-01-23T09:05:33.419437Z"
    },
    "papermill": {
     "duration": 0.030567,
     "end_time": "2021-01-23T09:05:33.420192",
     "exception": false,
     "start_time": "2021-01-23T09:05:33.389625",
     "status": "completed"
    },
    "tags": []
   },
   "outputs": [
    {
     "data": {
      "text/plain": [
       "14 1 0 0 1 1    614\n",
       "Name: PredictionString, dtype: int64"
      ]
     },
     "execution_count": 7,
     "metadata": {},
     "output_type": "execute_result"
    }
   ],
   "source": [
    "pred['PredictionString'].value_counts().iloc[[0]]"
   ]
  },
  {
   "cell_type": "markdown",
   "metadata": {
    "papermill": {
     "duration": 0.015458,
     "end_time": "2021-01-23T09:05:33.451664",
     "exception": false,
     "start_time": "2021-01-23T09:05:33.436206",
     "status": "completed"
    },
    "tags": []
   },
   "source": [
    "# 2 Class Filter + [**1x1 bbox trick** 🔥](https://www.kaggle.com/c/vinbigdata-chest-xray-abnormalities-detection/discussion/211971)"
   ]
  },
  {
   "cell_type": "code",
   "execution_count": 8,
   "metadata": {
    "execution": {
     "iopub.execute_input": "2021-01-23T09:05:33.492231Z",
     "iopub.status.busy": "2021-01-23T09:05:33.490945Z",
     "iopub.status.idle": "2021-01-23T09:05:33.494724Z",
     "shell.execute_reply": "2021-01-23T09:05:33.493997Z"
    },
    "papermill": {
     "duration": 0.027355,
     "end_time": "2021-01-23T09:05:33.494851",
     "exception": false,
     "start_time": "2021-01-23T09:05:33.467496",
     "status": "completed"
    },
    "tags": []
   },
   "outputs": [],
   "source": [
    "def filter_2cls(row, low_thr=low_thr, high_thr=high_thr):\n",
    "    prob = row['target']\n",
    "    if prob<low_thr:\n",
    "        ## Less chance of having any disease\n",
    "        row['PredictionString'] = '14 1 0 0 1 1'\n",
    "    elif low_thr<=prob<high_thr:\n",
    "        ## More change of having any diesease\n",
    "        row['PredictionString']+=f' 14 {prob} 0 0 1 1'\n",
    "    elif high_thr<=prob:\n",
    "        ## Good chance of having any disease so believe in object detection model\n",
    "        row['PredictionString'] = row['PredictionString']\n",
    "    else:\n",
    "        raise ValueError('Prediction must be from [0-1]')\n",
    "    return row"
   ]
  },
  {
   "cell_type": "code",
   "execution_count": 9,
   "metadata": {
    "execution": {
     "iopub.execute_input": "2021-01-23T09:05:33.532798Z",
     "iopub.status.busy": "2021-01-23T09:05:33.531830Z",
     "iopub.status.idle": "2021-01-23T09:05:33.877693Z",
     "shell.execute_reply": "2021-01-23T09:05:33.877006Z"
    },
    "papermill": {
     "duration": 0.366604,
     "end_time": "2021-01-23T09:05:33.877805",
     "exception": false,
     "start_time": "2021-01-23T09:05:33.511201",
     "status": "completed"
    },
    "tags": []
   },
   "outputs": [
    {
     "data": {
      "text/html": [
       "<div>\n",
       "<style scoped>\n",
       "    .dataframe tbody tr th:only-of-type {\n",
       "        vertical-align: middle;\n",
       "    }\n",
       "\n",
       "    .dataframe tbody tr th {\n",
       "        vertical-align: top;\n",
       "    }\n",
       "\n",
       "    .dataframe thead th {\n",
       "        text-align: right;\n",
       "    }\n",
       "</style>\n",
       "<table border=\"1\" class=\"dataframe\">\n",
       "  <thead>\n",
       "    <tr style=\"text-align: right;\">\n",
       "      <th></th>\n",
       "      <th>image_id</th>\n",
       "      <th>PredictionString</th>\n",
       "      <th>target</th>\n",
       "    </tr>\n",
       "  </thead>\n",
       "  <tbody>\n",
       "    <tr>\n",
       "      <th>0</th>\n",
       "      <td>83caa8a85e03606cf57e49147d7ac569</td>\n",
       "      <td>0 0.2 1057 742 1328 990 3 0.8 814 1164 1737 1496</td>\n",
       "      <td>0.970583</td>\n",
       "    </tr>\n",
       "    <tr>\n",
       "      <th>1</th>\n",
       "      <td>7550347fa2bb96c2354a3716dfa3a69c</td>\n",
       "      <td>14 1 0 0 1 1</td>\n",
       "      <td>0.039873</td>\n",
       "    </tr>\n",
       "    <tr>\n",
       "      <th>2</th>\n",
       "      <td>74b23792db329cff5843e36efb8aa65a</td>\n",
       "      <td>14 1 0 0 1 1</td>\n",
       "      <td>0.010240</td>\n",
       "    </tr>\n",
       "    <tr>\n",
       "      <th>3</th>\n",
       "      <td>94568a546be103177cb582d3e91cd2d8</td>\n",
       "      <td>14 1 0 0 1 1</td>\n",
       "      <td>0.065679</td>\n",
       "    </tr>\n",
       "    <tr>\n",
       "      <th>4</th>\n",
       "      <td>6da36354fc904b63bc03eb3884e0c35c</td>\n",
       "      <td>11 0.3 578 292 859 353 0 0.4 1076 548 1301 747...</td>\n",
       "      <td>0.838772</td>\n",
       "    </tr>\n",
       "  </tbody>\n",
       "</table>\n",
       "</div>"
      ],
      "text/plain": [
       "                           image_id  \\\n",
       "0  83caa8a85e03606cf57e49147d7ac569   \n",
       "1  7550347fa2bb96c2354a3716dfa3a69c   \n",
       "2  74b23792db329cff5843e36efb8aa65a   \n",
       "3  94568a546be103177cb582d3e91cd2d8   \n",
       "4  6da36354fc904b63bc03eb3884e0c35c   \n",
       "\n",
       "                                    PredictionString    target  \n",
       "0   0 0.2 1057 742 1328 990 3 0.8 814 1164 1737 1496  0.970583  \n",
       "1                                       14 1 0 0 1 1  0.039873  \n",
       "2                                       14 1 0 0 1 1  0.010240  \n",
       "3                                       14 1 0 0 1 1  0.065679  \n",
       "4  11 0.3 578 292 859 353 0 0.4 1076 548 1301 747...  0.838772  "
      ]
     },
     "execution_count": 9,
     "metadata": {},
     "output_type": "execute_result"
    }
   ],
   "source": [
    "sub = pred.apply(filter_2cls, axis=1)\n",
    "sub.head()"
   ]
  },
  {
   "cell_type": "markdown",
   "metadata": {
    "papermill": {
     "duration": 0.016771,
     "end_time": "2021-01-23T09:05:33.911306",
     "exception": false,
     "start_time": "2021-01-23T09:05:33.894535",
     "status": "completed"
    },
    "tags": []
   },
   "source": [
    "# After 2 Class Filter Number of `No Finding`"
   ]
  },
  {
   "cell_type": "code",
   "execution_count": 10,
   "metadata": {
    "execution": {
     "iopub.execute_input": "2021-01-23T09:05:33.956306Z",
     "iopub.status.busy": "2021-01-23T09:05:33.955328Z",
     "iopub.status.idle": "2021-01-23T09:05:33.960603Z",
     "shell.execute_reply": "2021-01-23T09:05:33.959912Z"
    },
    "papermill": {
     "duration": 0.032511,
     "end_time": "2021-01-23T09:05:33.960723",
     "exception": false,
     "start_time": "2021-01-23T09:05:33.928212",
     "status": "completed"
    },
    "tags": []
   },
   "outputs": [
    {
     "data": {
      "text/plain": [
       "14 1 0 0 1 1    1912\n",
       "Name: PredictionString, dtype: int64"
      ]
     },
     "execution_count": 10,
     "metadata": {},
     "output_type": "execute_result"
    }
   ],
   "source": [
    "sub['PredictionString'].value_counts().iloc[[0]]"
   ]
  },
  {
   "cell_type": "markdown",
   "metadata": {
    "papermill": {
     "duration": 0.017665,
     "end_time": "2021-01-23T09:05:33.995606",
     "exception": false,
     "start_time": "2021-01-23T09:05:33.977941",
     "status": "completed"
    },
    "tags": []
   },
   "source": [
    "As we can see from above that applying `2 class filter` Number of `'No Finding'`increases significanly. **[549->1912]**. We can also see that `1x1 bbox trick` increases the result"
   ]
  },
  {
   "cell_type": "code",
   "execution_count": 11,
   "metadata": {
    "execution": {
     "iopub.execute_input": "2021-01-23T09:05:34.039861Z",
     "iopub.status.busy": "2021-01-23T09:05:34.037594Z",
     "iopub.status.idle": "2021-01-23T09:05:34.366601Z",
     "shell.execute_reply": "2021-01-23T09:05:34.364960Z"
    },
    "papermill": {
     "duration": 0.352931,
     "end_time": "2021-01-23T09:05:34.366755",
     "exception": false,
     "start_time": "2021-01-23T09:05:34.013824",
     "status": "completed"
    },
    "tags": []
   },
   "outputs": [],
   "source": [
    "sub[['image_id', 'PredictionString']].to_csv('submission.csv',index = False)"
   ]
  },
  {
   "cell_type": "markdown",
   "metadata": {
    "papermill": {
     "duration": 0.017623,
     "end_time": "2021-01-23T09:05:34.402414",
     "exception": false,
     "start_time": "2021-01-23T09:05:34.384791",
     "status": "completed"
    },
    "tags": []
   },
   "source": [
    "# Result\n",
    "As we can see applying the `2 class filter` improves the result significantly, from `0.154` to `0.201`. But bear in mind that choosing the `thershold` could be a bit `tricky`."
   ]
  },
  {
   "cell_type": "markdown",
   "metadata": {
    "papermill": {
     "duration": 0.016892,
     "end_time": "2021-01-23T09:05:34.441873",
     "exception": false,
     "start_time": "2021-01-23T09:05:34.424981",
     "status": "completed"
    },
    "tags": []
   },
   "source": [
    "# Please Upvote If You Have Found This Notebook Useful 😃"
   ]
  }
 ],
 "metadata": {
  "kernelspec": {
   "display_name": "Python 3",
   "language": "python",
   "name": "python3"
  },
  "language_info": {
   "codemirror_mode": {
    "name": "ipython",
    "version": 3
   },
   "file_extension": ".py",
   "mimetype": "text/x-python",
   "name": "python",
   "nbconvert_exporter": "python",
   "pygments_lexer": "ipython3",
   "version": "3.7.6"
  },
  "papermill": {
   "duration": 6.995063,
   "end_time": "2021-01-23T09:05:34.574497",
   "environment_variables": {},
   "exception": null,
   "input_path": "__notebook__.ipynb",
   "output_path": "__notebook__.ipynb",
   "parameters": {},
   "start_time": "2021-01-23T09:05:27.579434",
   "version": "2.1.0"
  }
 },
 "nbformat": 4,
 "nbformat_minor": 4
}
